{
 "cells": [
  {
   "cell_type": "markdown",
   "metadata": {},
   "source": [
    "## Movielens 영화 추천 실습"
   ]
  },
  {
   "cell_type": "code",
   "execution_count": 106,
   "metadata": {},
   "outputs": [],
   "source": [
    "# MF 모델 학습 방법을 토대로, 내가 좋아할만한 영화 추천 시스템을 제작해 보겠습니다.\n",
    "# 이번에 활용할 데이터셋은 추천시스템의 MNIST라고 부를만한 Movielens 데이터입니다.\n",
    "\n",
    "# 유저가 영화에 대해 평점을 매긴 데이터가 데이터 크기 별로 있습니다. MovieLens 1M Dataset 사용을 권장합니다.\n",
    "# 별점 데이터는 대표적인 explicit 데이터입니다. 하지만 implicit 데이터로 간주하고 테스트해볼 수 있습니다.\n",
    "# 별점을 시청횟수로 해석해서 생각하겠습니다.\n",
    "# 또한 유저가 3점 미만으로 준 데이터는 선호하지 않는다고 가정하고 제외하겠습니다."
   ]
  },
  {
   "cell_type": "markdown",
   "metadata": {},
   "source": [
    "## 1) 데이터 준비와 전처리"
   ]
  },
  {
   "cell_type": "code",
   "execution_count": 107,
   "metadata": {},
   "outputs": [],
   "source": [
    "# Movielens 데이터는 rating.dat 안에 이미 인덱싱까지 완료된 사용자-영화-평점 데이터가 깔끔하게 정리되어 있습니다."
   ]
  },
  {
   "cell_type": "code",
   "execution_count": 108,
   "metadata": {
    "scrolled": true
   },
   "outputs": [],
   "source": [
    "import pandas as pd\n",
    "import os\n",
    "data_file_path=os.getenv('HOME') + '/aiffel/recommendata_iu/data/ml-1m/ratings.dat'\n",
    "data_cols = ['user_id', 'movie_id', 'rating', 'timestamp']\n",
    "data = pd.read_csv(data_file_path, sep='::', names=data_cols, engine='python')\n",
    "orginal_data_size = len(data)"
   ]
  },
  {
   "cell_type": "code",
   "execution_count": 109,
   "metadata": {},
   "outputs": [],
   "source": [
    "# 필요없는 항목은 삭제한다.\n",
    "data.drop('timestamp', axis=1, inplace=True)"
   ]
  },
  {
   "cell_type": "code",
   "execution_count": 110,
   "metadata": {},
   "outputs": [
    {
     "data": {
      "text/html": [
       "<div>\n",
       "<style scoped>\n",
       "    .dataframe tbody tr th:only-of-type {\n",
       "        vertical-align: middle;\n",
       "    }\n",
       "\n",
       "    .dataframe tbody tr th {\n",
       "        vertical-align: top;\n",
       "    }\n",
       "\n",
       "    .dataframe thead th {\n",
       "        text-align: right;\n",
       "    }\n",
       "</style>\n",
       "<table border=\"1\" class=\"dataframe\">\n",
       "  <thead>\n",
       "    <tr style=\"text-align: right;\">\n",
       "      <th></th>\n",
       "      <th>user_id</th>\n",
       "      <th>movie_id</th>\n",
       "      <th>rating</th>\n",
       "    </tr>\n",
       "  </thead>\n",
       "  <tbody>\n",
       "    <tr>\n",
       "      <th>0</th>\n",
       "      <td>1</td>\n",
       "      <td>1193</td>\n",
       "      <td>5</td>\n",
       "    </tr>\n",
       "    <tr>\n",
       "      <th>1</th>\n",
       "      <td>1</td>\n",
       "      <td>661</td>\n",
       "      <td>3</td>\n",
       "    </tr>\n",
       "    <tr>\n",
       "      <th>2</th>\n",
       "      <td>1</td>\n",
       "      <td>914</td>\n",
       "      <td>3</td>\n",
       "    </tr>\n",
       "    <tr>\n",
       "      <th>3</th>\n",
       "      <td>1</td>\n",
       "      <td>3408</td>\n",
       "      <td>4</td>\n",
       "    </tr>\n",
       "    <tr>\n",
       "      <th>4</th>\n",
       "      <td>1</td>\n",
       "      <td>2355</td>\n",
       "      <td>5</td>\n",
       "    </tr>\n",
       "  </tbody>\n",
       "</table>\n",
       "</div>"
      ],
      "text/plain": [
       "   user_id  movie_id  rating\n",
       "0        1      1193       5\n",
       "1        1       661       3\n",
       "2        1       914       3\n",
       "3        1      3408       4\n",
       "4        1      2355       5"
      ]
     },
     "execution_count": 110,
     "metadata": {},
     "output_type": "execute_result"
    }
   ],
   "source": [
    "data.head()"
   ]
  },
  {
   "cell_type": "code",
   "execution_count": 111,
   "metadata": {},
   "outputs": [
    {
     "name": "stdout",
     "output_type": "stream",
     "text": [
      "orginal_data_size: 1000209, filtered_data_size: 836478\n",
      "Ratio of Remaining Data is 83.63%\n"
     ]
    }
   ],
   "source": [
    "# 3점 이상만 남깁니다.\n",
    "data = data[data['rating']>=3]\n",
    "filtered_data_size = len(data)\n",
    "\n",
    "print(f'orginal_data_size: {orginal_data_size}, filtered_data_size: {filtered_data_size}')\n",
    "print(f'Ratio of Remaining Data is {filtered_data_size / orginal_data_size:.2%}')"
   ]
  },
  {
   "cell_type": "code",
   "execution_count": 112,
   "metadata": {},
   "outputs": [],
   "source": [
    "# data 컬럼의 이름을 count로 바꿉니다.\n",
    "data.rename(columns={'rating':'count'}, inplace=True)"
   ]
  },
  {
   "cell_type": "code",
   "execution_count": 113,
   "metadata": {
    "scrolled": true
   },
   "outputs": [
    {
     "data": {
      "text/html": [
       "<div>\n",
       "<style scoped>\n",
       "    .dataframe tbody tr th:only-of-type {\n",
       "        vertical-align: middle;\n",
       "    }\n",
       "\n",
       "    .dataframe tbody tr th {\n",
       "        vertical-align: top;\n",
       "    }\n",
       "\n",
       "    .dataframe thead th {\n",
       "        text-align: right;\n",
       "    }\n",
       "</style>\n",
       "<table border=\"1\" class=\"dataframe\">\n",
       "  <thead>\n",
       "    <tr style=\"text-align: right;\">\n",
       "      <th></th>\n",
       "      <th>movie_id</th>\n",
       "      <th>title</th>\n",
       "      <th>genre</th>\n",
       "    </tr>\n",
       "  </thead>\n",
       "  <tbody>\n",
       "    <tr>\n",
       "      <th>0</th>\n",
       "      <td>1</td>\n",
       "      <td>Toy Story (1995)</td>\n",
       "      <td>Animation|Children's|Comedy</td>\n",
       "    </tr>\n",
       "    <tr>\n",
       "      <th>1</th>\n",
       "      <td>2</td>\n",
       "      <td>Jumanji (1995)</td>\n",
       "      <td>Adventure|Children's|Fantasy</td>\n",
       "    </tr>\n",
       "    <tr>\n",
       "      <th>2</th>\n",
       "      <td>3</td>\n",
       "      <td>Grumpier Old Men (1995)</td>\n",
       "      <td>Comedy|Romance</td>\n",
       "    </tr>\n",
       "    <tr>\n",
       "      <th>3</th>\n",
       "      <td>4</td>\n",
       "      <td>Waiting to Exhale (1995)</td>\n",
       "      <td>Comedy|Drama</td>\n",
       "    </tr>\n",
       "    <tr>\n",
       "      <th>4</th>\n",
       "      <td>5</td>\n",
       "      <td>Father of the Bride Part II (1995)</td>\n",
       "      <td>Comedy</td>\n",
       "    </tr>\n",
       "  </tbody>\n",
       "</table>\n",
       "</div>"
      ],
      "text/plain": [
       "   movie_id                               title                         genre\n",
       "0         1                    Toy Story (1995)   Animation|Children's|Comedy\n",
       "1         2                      Jumanji (1995)  Adventure|Children's|Fantasy\n",
       "2         3             Grumpier Old Men (1995)                Comedy|Romance\n",
       "3         4            Waiting to Exhale (1995)                  Comedy|Drama\n",
       "4         5  Father of the Bride Part II (1995)                        Comedy"
      ]
     },
     "execution_count": 113,
     "metadata": {},
     "output_type": "execute_result"
    }
   ],
   "source": [
    "# 영화 제목을 보기 위해 메타 데이터를 읽어옵니다.\n",
    "movie_file_path=os.getenv('HOME') + '/aiffel/recommendata_iu/data/ml-1m/movies.dat'\n",
    "cols = ['movie_id', 'title', 'genre'] \n",
    "movies = pd.read_csv(movie_file_path, sep='::', names=cols, engine='python')\n",
    "movies.head()"
   ]
  },
  {
   "cell_type": "code",
   "execution_count": 114,
   "metadata": {},
   "outputs": [],
   "source": [
    "# 여기까지가 전처리입니다. 이후에는 이전 스텝에 소개했던 것과 동일한 방식으로 \n",
    "# MF model을 구성하여 내가 좋아할 만한 영화를 추천해 볼 수 있습니다."
   ]
  },
  {
   "cell_type": "markdown",
   "metadata": {},
   "source": [
    "## 2) 분석해 봅시다."
   ]
  },
  {
   "cell_type": "code",
   "execution_count": 115,
   "metadata": {},
   "outputs": [
    {
     "data": {
      "text/plain": [
       "3628"
      ]
     },
     "execution_count": 115,
     "metadata": {},
     "output_type": "execute_result"
    }
   ],
   "source": [
    "# ratings에 있는 유니크한 영화 개수\n",
    "# pandas.DataFrame.nunique()은 특정 컬럼에 포함된 유니크한 데이터의 개수를 알아보는데 유용합니다.\n",
    "data['movie_id'].nunique() # 영화갯수"
   ]
  },
  {
   "cell_type": "code",
   "execution_count": 116,
   "metadata": {},
   "outputs": [
    {
     "data": {
      "text/plain": [
       "6039"
      ]
     },
     "execution_count": 116,
     "metadata": {},
     "output_type": "execute_result"
    }
   ],
   "source": [
    "# data에 있는 유니크한 사용자 수\n",
    "data['user_id'].nunique()"
   ]
  },
  {
   "cell_type": "code",
   "execution_count": 117,
   "metadata": {},
   "outputs": [],
   "source": [
    "# 가장 인기있는 영화 30개(인기순)\n",
    "# 영화제목과 같이 보여주기 위해서 movies에서 영화제목을 가져옴\n",
    "# data1 = data.copy()\n",
    "data = pd.merge(data, movies[['movie_id', 'title']], how='left', on='movie_id')"
   ]
  },
  {
   "cell_type": "code",
   "execution_count": 118,
   "metadata": {
    "scrolled": true
   },
   "outputs": [
    {
     "data": {
      "text/html": [
       "<div>\n",
       "<style scoped>\n",
       "    .dataframe tbody tr th:only-of-type {\n",
       "        vertical-align: middle;\n",
       "    }\n",
       "\n",
       "    .dataframe tbody tr th {\n",
       "        vertical-align: top;\n",
       "    }\n",
       "\n",
       "    .dataframe thead th {\n",
       "        text-align: right;\n",
       "    }\n",
       "</style>\n",
       "<table border=\"1\" class=\"dataframe\">\n",
       "  <thead>\n",
       "    <tr style=\"text-align: right;\">\n",
       "      <th></th>\n",
       "      <th>user_id</th>\n",
       "      <th>movie_id</th>\n",
       "      <th>count</th>\n",
       "      <th>title</th>\n",
       "    </tr>\n",
       "  </thead>\n",
       "  <tbody>\n",
       "    <tr>\n",
       "      <th>0</th>\n",
       "      <td>1</td>\n",
       "      <td>1193</td>\n",
       "      <td>5</td>\n",
       "      <td>One Flew Over the Cuckoo's Nest (1975)</td>\n",
       "    </tr>\n",
       "    <tr>\n",
       "      <th>1</th>\n",
       "      <td>1</td>\n",
       "      <td>661</td>\n",
       "      <td>3</td>\n",
       "      <td>James and the Giant Peach (1996)</td>\n",
       "    </tr>\n",
       "    <tr>\n",
       "      <th>2</th>\n",
       "      <td>1</td>\n",
       "      <td>914</td>\n",
       "      <td>3</td>\n",
       "      <td>My Fair Lady (1964)</td>\n",
       "    </tr>\n",
       "    <tr>\n",
       "      <th>3</th>\n",
       "      <td>1</td>\n",
       "      <td>3408</td>\n",
       "      <td>4</td>\n",
       "      <td>Erin Brockovich (2000)</td>\n",
       "    </tr>\n",
       "    <tr>\n",
       "      <th>4</th>\n",
       "      <td>1</td>\n",
       "      <td>2355</td>\n",
       "      <td>5</td>\n",
       "      <td>Bug's Life, A (1998)</td>\n",
       "    </tr>\n",
       "  </tbody>\n",
       "</table>\n",
       "</div>"
      ],
      "text/plain": [
       "   user_id  movie_id  count                                   title\n",
       "0        1      1193      5  One Flew Over the Cuckoo's Nest (1975)\n",
       "1        1       661      3        James and the Giant Peach (1996)\n",
       "2        1       914      3                     My Fair Lady (1964)\n",
       "3        1      3408      4                  Erin Brockovich (2000)\n",
       "4        1      2355      5                    Bug's Life, A (1998)"
      ]
     },
     "execution_count": 118,
     "metadata": {},
     "output_type": "execute_result"
    }
   ],
   "source": [
    "data.head()"
   ]
  },
  {
   "cell_type": "code",
   "execution_count": 119,
   "metadata": {
    "scrolled": true
   },
   "outputs": [
    {
     "data": {
      "text/plain": [
       "movie_id  title                                                \n",
       "2858      American Beauty (1999)                                   3211\n",
       "260       Star Wars: Episode IV - A New Hope (1977)                2910\n",
       "1196      Star Wars: Episode V - The Empire Strikes Back (1980)    2885\n",
       "1210      Star Wars: Episode VI - Return of the Jedi (1983)        2716\n",
       "2028      Saving Private Ryan (1998)                               2561\n",
       "589       Terminator 2: Judgment Day (1991)                        2509\n",
       "593       Silence of the Lambs, The (1991)                         2498\n",
       "1198      Raiders of the Lost Ark (1981)                           2473\n",
       "1270      Back to the Future (1985)                                2460\n",
       "2571      Matrix, The (1999)                                       2434\n",
       "480       Jurassic Park (1993)                                     2413\n",
       "2762      Sixth Sense, The (1999)                                  2385\n",
       "608       Fargo (1996)                                             2371\n",
       "110       Braveheart (1995)                                        2314\n",
       "1580      Men in Black (1997)                                      2297\n",
       "527       Schindler's List (1993)                                  2257\n",
       "1197      Princess Bride, The (1987)                               2252\n",
       "2396      Shakespeare in Love (1998)                               2213\n",
       "1617      L.A. Confidential (1997)                                 2210\n",
       "318       Shawshank Redemption, The (1994)                         2194\n",
       "858       Godfather, The (1972)                                    2167\n",
       "1265      Groundhog Day (1993)                                     2121\n",
       "1097      E.T. the Extra-Terrestrial (1982)                        2102\n",
       "2997      Being John Malkovich (1999)                              2066\n",
       "2716      Ghostbusters (1984)                                      2051\n",
       "296       Pulp Fiction (1994)                                      2030\n",
       "356       Forrest Gump (1994)                                      2022\n",
       "1240      Terminator, The (1984)                                   2019\n",
       "1         Toy Story (1995)                                         2000\n",
       "457       Fugitive, The (1993)                                     1941\n",
       "Name: user_id, dtype: int64"
      ]
     },
     "execution_count": 119,
     "metadata": {},
     "output_type": "execute_result"
    }
   ],
   "source": [
    "# 가장 많이 본 영화 순서대로 조회해 보기\n",
    "data.groupby(['movie_id', 'title'])['user_id'].count().sort_values(ascending=False)[:30]"
   ]
  },
  {
   "cell_type": "code",
   "execution_count": 120,
   "metadata": {},
   "outputs": [
    {
     "data": {
      "text/plain": [
       "user_id\n",
       "4169    1968\n",
       "4277    1715\n",
       "1680    1515\n",
       "3618    1146\n",
       "1015    1145\n",
       "5831    1136\n",
       "2909    1119\n",
       "1941    1116\n",
       "424     1106\n",
       "1980    1054\n",
       "3224    1034\n",
       "1285    1034\n",
       "3539    1029\n",
       "3391    1012\n",
       "3032    1003\n",
       "1181     981\n",
       "3841     976\n",
       "4344     973\n",
       "4448     970\n",
       "1088     966\n",
       "549      956\n",
       "889      943\n",
       "4725     936\n",
       "678      933\n",
       "1448     930\n",
       "2063     906\n",
       "3292     897\n",
       "1698     883\n",
       "4808     868\n",
       "2116     855\n",
       "Name: movie_id, dtype: int64"
      ]
     },
     "execution_count": 120,
     "metadata": {},
     "output_type": "execute_result"
    }
   ],
   "source": [
    "# 가장 영화를 많이 본 유저 30명(시청 건수가 높은 순)\n",
    "top_user_count = data.groupby('user_id')['movie_id'].count()\n",
    "top_user_count.sort_values(ascending=False).head(30)"
   ]
  },
  {
   "cell_type": "code",
   "execution_count": 121,
   "metadata": {
    "scrolled": false
   },
   "outputs": [
    {
     "data": {
      "text/plain": [
       "count    6039.000000\n",
       "mean      138.512668\n",
       "std       156.241599\n",
       "min         1.000000\n",
       "25%        38.000000\n",
       "50%        81.000000\n",
       "75%       177.000000\n",
       "max      1968.000000\n",
       "Name: movie_id, dtype: float64"
      ]
     },
     "execution_count": 121,
     "metadata": {},
     "output_type": "execute_result"
    }
   ],
   "source": [
    "# 유저별 몇 개의 영화를 보는지에 대한 통계\n",
    "user_count = data.groupby('user_id')['movie_id'].count()\n",
    "user_count.describe()"
   ]
  },
  {
   "cell_type": "code",
   "execution_count": 122,
   "metadata": {},
   "outputs": [
    {
     "data": {
      "text/plain": [
       "count    6039.000000\n",
       "mean        4.055970\n",
       "std         0.432143\n",
       "min         3.000000\n",
       "25%         4.000000\n",
       "50%         4.000000\n",
       "75%         4.000000\n",
       "max         5.000000\n",
       "Name: count, dtype: float64"
      ]
     },
     "execution_count": 122,
     "metadata": {},
     "output_type": "execute_result"
    }
   ],
   "source": [
    "# 유저별 영화 시청 횟수 중앙값에 대한 통계\n",
    "user_median = data.groupby('user_id')['count'].median()\n",
    "user_median.describe()"
   ]
  },
  {
   "cell_type": "markdown",
   "metadata": {},
   "source": [
    "## 3) 내가 선호하는 영화를 5가지 골라서 rating에 추가해 줍시다."
   ]
  },
  {
   "cell_type": "markdown",
   "metadata": {},
   "source": [
    "### 내 데이터로 테스트해보기"
   ]
  },
  {
   "cell_type": "code",
   "execution_count": 123,
   "metadata": {
    "scrolled": false
   },
   "outputs": [
    {
     "data": {
      "text/html": [
       "<div>\n",
       "<style scoped>\n",
       "    .dataframe tbody tr th:only-of-type {\n",
       "        vertical-align: middle;\n",
       "    }\n",
       "\n",
       "    .dataframe tbody tr th {\n",
       "        vertical-align: top;\n",
       "    }\n",
       "\n",
       "    .dataframe thead th {\n",
       "        text-align: right;\n",
       "    }\n",
       "</style>\n",
       "<table border=\"1\" class=\"dataframe\">\n",
       "  <thead>\n",
       "    <tr style=\"text-align: right;\">\n",
       "      <th></th>\n",
       "      <th>user_id</th>\n",
       "      <th>movie_id</th>\n",
       "      <th>count</th>\n",
       "      <th>title</th>\n",
       "    </tr>\n",
       "  </thead>\n",
       "  <tbody>\n",
       "    <tr>\n",
       "      <th>836473</th>\n",
       "      <td>6040</td>\n",
       "      <td>1090</td>\n",
       "      <td>3</td>\n",
       "      <td>Platoon (1986)</td>\n",
       "    </tr>\n",
       "    <tr>\n",
       "      <th>836474</th>\n",
       "      <td>6040</td>\n",
       "      <td>1094</td>\n",
       "      <td>5</td>\n",
       "      <td>Crying Game, The (1992)</td>\n",
       "    </tr>\n",
       "    <tr>\n",
       "      <th>836475</th>\n",
       "      <td>6040</td>\n",
       "      <td>562</td>\n",
       "      <td>5</td>\n",
       "      <td>Welcome to the Dollhouse (1995)</td>\n",
       "    </tr>\n",
       "    <tr>\n",
       "      <th>836476</th>\n",
       "      <td>6040</td>\n",
       "      <td>1096</td>\n",
       "      <td>4</td>\n",
       "      <td>Sophie's Choice (1982)</td>\n",
       "    </tr>\n",
       "    <tr>\n",
       "      <th>836477</th>\n",
       "      <td>6040</td>\n",
       "      <td>1097</td>\n",
       "      <td>4</td>\n",
       "      <td>E.T. the Extra-Terrestrial (1982)</td>\n",
       "    </tr>\n",
       "    <tr>\n",
       "      <th>836478</th>\n",
       "      <td>6041</td>\n",
       "      <td>608</td>\n",
       "      <td>10</td>\n",
       "      <td>Fargo (1996)</td>\n",
       "    </tr>\n",
       "    <tr>\n",
       "      <th>836479</th>\n",
       "      <td>6041</td>\n",
       "      <td>1</td>\n",
       "      <td>10</td>\n",
       "      <td>Toy Story (1995)</td>\n",
       "    </tr>\n",
       "    <tr>\n",
       "      <th>836480</th>\n",
       "      <td>6041</td>\n",
       "      <td>110</td>\n",
       "      <td>10</td>\n",
       "      <td>Braveheart (1995)</td>\n",
       "    </tr>\n",
       "    <tr>\n",
       "      <th>836481</th>\n",
       "      <td>6041</td>\n",
       "      <td>2762</td>\n",
       "      <td>10</td>\n",
       "      <td>Sixth Sense, The (1999)</td>\n",
       "    </tr>\n",
       "    <tr>\n",
       "      <th>836482</th>\n",
       "      <td>6041</td>\n",
       "      <td>296</td>\n",
       "      <td>10</td>\n",
       "      <td>Pulp Fiction (1994)</td>\n",
       "    </tr>\n",
       "  </tbody>\n",
       "</table>\n",
       "</div>"
      ],
      "text/plain": [
       "        user_id  movie_id  count                              title\n",
       "836473     6040      1090      3                     Platoon (1986)\n",
       "836474     6040      1094      5            Crying Game, The (1992)\n",
       "836475     6040       562      5    Welcome to the Dollhouse (1995)\n",
       "836476     6040      1096      4             Sophie's Choice (1982)\n",
       "836477     6040      1097      4  E.T. the Extra-Terrestrial (1982)\n",
       "836478     6041       608     10                       Fargo (1996)\n",
       "836479     6041         1     10                   Toy Story (1995)\n",
       "836480     6041       110     10                  Braveheart (1995)\n",
       "836481     6041      2762     10            Sixth Sense, The (1999)\n",
       "836482     6041       296     10                Pulp Fiction (1994)"
      ]
     },
     "execution_count": 123,
     "metadata": {},
     "output_type": "execute_result"
    }
   ],
   "source": [
    "# 내가 좋아하는 영화 제목 넣어보기, \n",
    "my_favorite = [ 'Fargo (1996)', 'Toy Story (1995)' ,'Braveheart (1995)' ,'Sixth Sense, The (1999)' ,'Pulp Fiction (1994)']\n",
    "\n",
    "# 영화제목을 movie_id로 매핑하기\n",
    "movie_title = dict(zip(data['title'], data['movie_id']))\n",
    "movie_ids = [movie_title[i] for i in my_favorite]\n",
    "movie_ids\n",
    "\n",
    "# 6041이라는 user_id가 위 영화를 5회씩 시청했다고 입력하기\n",
    "my_playlist = pd.DataFrame({'user_id': [6041]*5, 'movie_id': movie_ids , 'title': my_favorite, 'count':[10]*5})\n",
    "\n",
    "if not data.isin({'user_id':[6042]})['user_id'].any():  # user_id에 'yesica'이라는 데이터가 없다면\n",
    "    data = data.append(my_playlist, ignore_index=True)                           # 위에 임의로 만든 my_favorite 데이터를 추가해 줍니다. \n",
    "else: \n",
    "    print('user_id exists!')\n",
    "data.tail(10)       # 잘 추가되었는지 확인해 봅시다."
   ]
  },
  {
   "cell_type": "code",
   "execution_count": 124,
   "metadata": {},
   "outputs": [
    {
     "data": {
      "text/plain": [
       "3628"
      ]
     },
     "execution_count": 124,
     "metadata": {},
     "output_type": "execute_result"
    }
   ],
   "source": [
    "data['movie_id'].nunique() # 영화갯수는 그래도인지 확인한다"
   ]
  },
  {
   "cell_type": "code",
   "execution_count": 125,
   "metadata": {},
   "outputs": [
    {
     "data": {
      "text/plain": [
       "6040"
      ]
     },
     "execution_count": 125,
     "metadata": {},
     "output_type": "execute_result"
    }
   ],
   "source": [
    "# data에 있는 유니크한 사용자 수가 늘었는지 확인한다\n",
    "data['user_id'].nunique()  "
   ]
  },
  {
   "cell_type": "markdown",
   "metadata": {},
   "source": [
    "### 모델에 활용하기 위한 전처리 (실습)¶"
   ]
  },
  {
   "cell_type": "code",
   "execution_count": 126,
   "metadata": {},
   "outputs": [
    {
     "data": {
      "text/html": [
       "<div>\n",
       "<style scoped>\n",
       "    .dataframe tbody tr th:only-of-type {\n",
       "        vertical-align: middle;\n",
       "    }\n",
       "\n",
       "    .dataframe tbody tr th {\n",
       "        vertical-align: top;\n",
       "    }\n",
       "\n",
       "    .dataframe thead th {\n",
       "        text-align: right;\n",
       "    }\n",
       "</style>\n",
       "<table border=\"1\" class=\"dataframe\">\n",
       "  <thead>\n",
       "    <tr style=\"text-align: right;\">\n",
       "      <th></th>\n",
       "      <th>user_id</th>\n",
       "      <th>movie_id</th>\n",
       "      <th>count</th>\n",
       "      <th>title</th>\n",
       "    </tr>\n",
       "  </thead>\n",
       "  <tbody>\n",
       "    <tr>\n",
       "      <th>0</th>\n",
       "      <td>1</td>\n",
       "      <td>1193</td>\n",
       "      <td>5</td>\n",
       "      <td>One Flew Over the Cuckoo's Nest (1975)</td>\n",
       "    </tr>\n",
       "    <tr>\n",
       "      <th>1</th>\n",
       "      <td>1</td>\n",
       "      <td>661</td>\n",
       "      <td>3</td>\n",
       "      <td>James and the Giant Peach (1996)</td>\n",
       "    </tr>\n",
       "    <tr>\n",
       "      <th>2</th>\n",
       "      <td>1</td>\n",
       "      <td>914</td>\n",
       "      <td>3</td>\n",
       "      <td>My Fair Lady (1964)</td>\n",
       "    </tr>\n",
       "    <tr>\n",
       "      <th>3</th>\n",
       "      <td>1</td>\n",
       "      <td>3408</td>\n",
       "      <td>4</td>\n",
       "      <td>Erin Brockovich (2000)</td>\n",
       "    </tr>\n",
       "    <tr>\n",
       "      <th>4</th>\n",
       "      <td>1</td>\n",
       "      <td>2355</td>\n",
       "      <td>5</td>\n",
       "      <td>Bug's Life, A (1998)</td>\n",
       "    </tr>\n",
       "    <tr>\n",
       "      <th>...</th>\n",
       "      <td>...</td>\n",
       "      <td>...</td>\n",
       "      <td>...</td>\n",
       "      <td>...</td>\n",
       "    </tr>\n",
       "    <tr>\n",
       "      <th>836478</th>\n",
       "      <td>6041</td>\n",
       "      <td>608</td>\n",
       "      <td>10</td>\n",
       "      <td>Fargo (1996)</td>\n",
       "    </tr>\n",
       "    <tr>\n",
       "      <th>836479</th>\n",
       "      <td>6041</td>\n",
       "      <td>1</td>\n",
       "      <td>10</td>\n",
       "      <td>Toy Story (1995)</td>\n",
       "    </tr>\n",
       "    <tr>\n",
       "      <th>836480</th>\n",
       "      <td>6041</td>\n",
       "      <td>110</td>\n",
       "      <td>10</td>\n",
       "      <td>Braveheart (1995)</td>\n",
       "    </tr>\n",
       "    <tr>\n",
       "      <th>836481</th>\n",
       "      <td>6041</td>\n",
       "      <td>2762</td>\n",
       "      <td>10</td>\n",
       "      <td>Sixth Sense, The (1999)</td>\n",
       "    </tr>\n",
       "    <tr>\n",
       "      <th>836482</th>\n",
       "      <td>6041</td>\n",
       "      <td>296</td>\n",
       "      <td>10</td>\n",
       "      <td>Pulp Fiction (1994)</td>\n",
       "    </tr>\n",
       "  </tbody>\n",
       "</table>\n",
       "<p>836483 rows × 4 columns</p>\n",
       "</div>"
      ],
      "text/plain": [
       "        user_id  movie_id  count                                   title\n",
       "0             1      1193      5  One Flew Over the Cuckoo's Nest (1975)\n",
       "1             1       661      3        James and the Giant Peach (1996)\n",
       "2             1       914      3                     My Fair Lady (1964)\n",
       "3             1      3408      4                  Erin Brockovich (2000)\n",
       "4             1      2355      5                    Bug's Life, A (1998)\n",
       "...         ...       ...    ...                                     ...\n",
       "836478     6041       608     10                            Fargo (1996)\n",
       "836479     6041         1     10                        Toy Story (1995)\n",
       "836480     6041       110     10                       Braveheart (1995)\n",
       "836481     6041      2762     10                 Sixth Sense, The (1999)\n",
       "836482     6041       296     10                     Pulp Fiction (1994)\n",
       "\n",
       "[836483 rows x 4 columns]"
      ]
     },
     "execution_count": 126,
     "metadata": {},
     "output_type": "execute_result"
    }
   ],
   "source": [
    "# pandas.DataFrame.unique()은 특정 컬럼에 포함된 유니크한 데이터만 모아 줍니다. indexing 작업을 위해 매우 유용합니다.\n",
    "# 고유한 유저, 영화를 찾아내는 코드\n",
    "user_unique = data['user_id'].unique()\n",
    "movie_title_unique = data['title'].unique()\n",
    "\n",
    "# 유저, 영화를 indexing 하는 코드 idx는 index의 약자입니다.\n",
    "user_to_idx = {v:k for k,v in enumerate(user_unique)}\n",
    "movie_to_idx = {v:k for k,v in enumerate(movie_title_unique)}\n",
    "\n",
    "data"
   ]
  },
  {
   "cell_type": "code",
   "execution_count": 127,
   "metadata": {},
   "outputs": [
    {
     "name": "stdout",
     "output_type": "stream",
     "text": [
      "6039\n",
      "51\n"
     ]
    }
   ],
   "source": [
    "# 인덱싱이 잘 되었는지 확인해 봅니다. \n",
    "print(user_to_idx[6041])    # 6040명의 유저 중 마지막으로 추가된 유저이니 6039가 나와야 한다.\n",
    "print(movie_to_idx['Fargo (1996)'])"
   ]
  },
  {
   "cell_type": "code",
   "execution_count": 128,
   "metadata": {
    "scrolled": true
   },
   "outputs": [
    {
     "name": "stdout",
     "output_type": "stream",
     "text": [
      "user_id column indexing OK!!\n",
      "title column indexing OK!!\n"
     ]
    },
    {
     "data": {
      "text/html": [
       "<div>\n",
       "<style scoped>\n",
       "    .dataframe tbody tr th:only-of-type {\n",
       "        vertical-align: middle;\n",
       "    }\n",
       "\n",
       "    .dataframe tbody tr th {\n",
       "        vertical-align: top;\n",
       "    }\n",
       "\n",
       "    .dataframe thead th {\n",
       "        text-align: right;\n",
       "    }\n",
       "</style>\n",
       "<table border=\"1\" class=\"dataframe\">\n",
       "  <thead>\n",
       "    <tr style=\"text-align: right;\">\n",
       "      <th></th>\n",
       "      <th>user_id</th>\n",
       "      <th>movie_id</th>\n",
       "      <th>count</th>\n",
       "      <th>title</th>\n",
       "    </tr>\n",
       "  </thead>\n",
       "  <tbody>\n",
       "    <tr>\n",
       "      <th>0</th>\n",
       "      <td>0</td>\n",
       "      <td>1193</td>\n",
       "      <td>5</td>\n",
       "      <td>0</td>\n",
       "    </tr>\n",
       "    <tr>\n",
       "      <th>1</th>\n",
       "      <td>0</td>\n",
       "      <td>661</td>\n",
       "      <td>3</td>\n",
       "      <td>1</td>\n",
       "    </tr>\n",
       "    <tr>\n",
       "      <th>2</th>\n",
       "      <td>0</td>\n",
       "      <td>914</td>\n",
       "      <td>3</td>\n",
       "      <td>2</td>\n",
       "    </tr>\n",
       "    <tr>\n",
       "      <th>3</th>\n",
       "      <td>0</td>\n",
       "      <td>3408</td>\n",
       "      <td>4</td>\n",
       "      <td>3</td>\n",
       "    </tr>\n",
       "    <tr>\n",
       "      <th>4</th>\n",
       "      <td>0</td>\n",
       "      <td>2355</td>\n",
       "      <td>5</td>\n",
       "      <td>4</td>\n",
       "    </tr>\n",
       "    <tr>\n",
       "      <th>...</th>\n",
       "      <td>...</td>\n",
       "      <td>...</td>\n",
       "      <td>...</td>\n",
       "      <td>...</td>\n",
       "    </tr>\n",
       "    <tr>\n",
       "      <th>836478</th>\n",
       "      <td>6039</td>\n",
       "      <td>608</td>\n",
       "      <td>10</td>\n",
       "      <td>51</td>\n",
       "    </tr>\n",
       "    <tr>\n",
       "      <th>836479</th>\n",
       "      <td>6039</td>\n",
       "      <td>1</td>\n",
       "      <td>10</td>\n",
       "      <td>40</td>\n",
       "    </tr>\n",
       "    <tr>\n",
       "      <th>836480</th>\n",
       "      <td>6039</td>\n",
       "      <td>110</td>\n",
       "      <td>10</td>\n",
       "      <td>87</td>\n",
       "    </tr>\n",
       "    <tr>\n",
       "      <th>836481</th>\n",
       "      <td>6039</td>\n",
       "      <td>2762</td>\n",
       "      <td>10</td>\n",
       "      <td>38</td>\n",
       "    </tr>\n",
       "    <tr>\n",
       "      <th>836482</th>\n",
       "      <td>6039</td>\n",
       "      <td>296</td>\n",
       "      <td>10</td>\n",
       "      <td>222</td>\n",
       "    </tr>\n",
       "  </tbody>\n",
       "</table>\n",
       "<p>836483 rows × 4 columns</p>\n",
       "</div>"
      ],
      "text/plain": [
       "        user_id  movie_id  count  title\n",
       "0             0      1193      5      0\n",
       "1             0       661      3      1\n",
       "2             0       914      3      2\n",
       "3             0      3408      4      3\n",
       "4             0      2355      5      4\n",
       "...         ...       ...    ...    ...\n",
       "836478     6039       608     10     51\n",
       "836479     6039         1     10     40\n",
       "836480     6039       110     10     87\n",
       "836481     6039      2762     10     38\n",
       "836482     6039       296     10    222\n",
       "\n",
       "[836483 rows x 4 columns]"
      ]
     },
     "execution_count": 128,
     "metadata": {},
     "output_type": "execute_result"
    }
   ],
   "source": [
    "# indexing을 통해 데이터 컬럼 내 값을 바꾸는 코드\n",
    "# dictionary 자료형의 get 함수는 https://wikidocs.net/16 을 참고하세요.\n",
    "\n",
    "# user_to_idx.get을 통해 user_id 컬럼의 모든 값을 인덱싱한 Series를 구해 봅시다. \n",
    "# 혹시 정상적으로 인덱싱되지 않은 row가 있다면 인덱스가 NaN이 될 테니 dropna()로 제거합니다. \n",
    "temp_user_data = data['user_id'].map(user_to_idx.get).dropna()\n",
    "if len(temp_user_data) == len(data):   # 모든 row가 정상적으로 인덱싱되었다면\n",
    "    print('user_id column indexing OK!!')\n",
    "    data['user_id'] = temp_user_data   # data['user_id']을 인덱싱된 Series로 교체해 줍니다. \n",
    "else:\n",
    "    print('user_id column indexing Fail!!')\n",
    "\n",
    "# movie_to_idx을 통해 movie 컬럼도 동일한 방식으로 인덱싱해 줍니다. \n",
    "temp_movie_data = data['title'].map(movie_to_idx.get).dropna()\n",
    "if len(temp_movie_data) == len(data):\n",
    "    print('title column indexing OK!!')\n",
    "    data['title'] = temp_movie_data\n",
    "else:\n",
    "    print('title column indexing Fail!!')\n",
    "\n",
    "# 위의 인덱싱 작업을 통해서 내가 입력한 user_id가 6041에서 6039로 변경된 것을 볼 수 있다. 앞에 2개가 비어있었던 것임을 알 수 있다.\n",
    "data"
   ]
  },
  {
   "cell_type": "code",
   "execution_count": 129,
   "metadata": {},
   "outputs": [
    {
     "name": "stdout",
     "output_type": "stream",
     "text": [
      "6039\n",
      "51\n"
     ]
    }
   ],
   "source": [
    "# 인덱싱이 잘 되었는지 확인해 봅니다. \n",
    "print(user_to_idx[6041])    # 6040명의 유저 중 마지막으로 추가된 유저이니 6039가 나와야 한다.\n",
    "print(movie_to_idx['Fargo (1996)'])"
   ]
  },
  {
   "cell_type": "markdown",
   "metadata": {},
   "source": [
    "### 사용자의 명시적/암묵적 평가"
   ]
  },
  {
   "cell_type": "code",
   "execution_count": 130,
   "metadata": {},
   "outputs": [
    {
     "name": "stdout",
     "output_type": "stream",
     "text": [
      "0,836483\n",
      "Ratio of only_one over all data is 0.00%\n"
     ]
    }
   ],
   "source": [
    "# 우리의 데이터셋에서 1회만 영화를 시청한 데이터의 비율은 어떻게 될까요?\n",
    "# 1회만 영화를 본 데이터의 비율을 보는 코드\n",
    "only_one = data[data['count']<2]\n",
    "one, all_data = len(only_one), len(data)\n",
    "print(f'{one},{all_data}')\n",
    "print(f'Ratio of only_one over all data is {one/all_data:.2%}')  # f-format에 대한 설명은 https://bit.ly/2DTLqYU"
   ]
  },
  {
   "cell_type": "markdown",
   "metadata": {},
   "source": [
    "## 4) CSR matrix를 직접 만들어 봅시다."
   ]
  },
  {
   "cell_type": "code",
   "execution_count": 131,
   "metadata": {},
   "outputs": [
    {
     "data": {
      "text/plain": [
       "(6040, 3628, 3628)"
      ]
     },
     "execution_count": 131,
     "metadata": {},
     "output_type": "execute_result"
    }
   ],
   "source": [
    "# csr_matrix((data, (row_ind, col_ind)), [shape=(M, N)])  \n",
    "# where data, row_ind and col_ind satisfy the relationship a[row_ind[k], col_ind[k]] = data[k]., M,N은 matrix의 shape\n",
    "\n",
    "# 실습 위에 설명보고 이해해서 만들어보기\n",
    "from scipy.sparse import csr_matrix\n",
    "\n",
    "num_user = data['user_id'].nunique()\n",
    "num_movie = data['movie_id'].nunique()\n",
    "num_movie_title = data['title'].nunique()\n",
    "\n",
    "num_user, num_movie, num_movie_title"
   ]
  },
  {
   "cell_type": "code",
   "execution_count": 132,
   "metadata": {
    "scrolled": true
   },
   "outputs": [
    {
     "data": {
      "text/plain": [
       "<6040x3628 sparse matrix of type '<class 'numpy.longlong'>'\n",
       "\twith 836483 stored elements in Compressed Sparse Row format>"
      ]
     },
     "execution_count": 132,
     "metadata": {},
     "output_type": "execute_result"
    }
   ],
   "source": [
    "csr_data = csr_matrix((data['count'].values, (data.user_id, data.title)), shape= (num_user, num_movie_title))\n",
    "csr_data"
   ]
  },
  {
   "cell_type": "markdown",
   "metadata": {},
   "source": [
    "## 5) als_model = AlternatingLeastSquares 모델을 직접 구성하여 훈련시켜 봅시다."
   ]
  },
  {
   "cell_type": "code",
   "execution_count": 133,
   "metadata": {},
   "outputs": [],
   "source": [
    "from implicit.als import AlternatingLeastSquares\n",
    "import os\n",
    "import numpy as np\n",
    "\n",
    "# implicit 라이브러리에서 권장하고 있는 부분입니다. 학습 내용과는 무관합니다.\n",
    "os.environ['OPENBLAS_NUM_THREADS']='1'\n",
    "os.environ['KMP_DUPLICATE_LIB_OK']='True'\n",
    "os.environ['MKL_NUM_THREADS']='1'"
   ]
  },
  {
   "cell_type": "code",
   "execution_count": 134,
   "metadata": {},
   "outputs": [],
   "source": [
    "# Implicit AlternatingLeastSquares 모델의 선언\n",
    "als_model = AlternatingLeastSquares(factors=100, regularization=0.01, use_gpu=False, iterations=30, dtype=np.float32)"
   ]
  },
  {
   "cell_type": "code",
   "execution_count": 135,
   "metadata": {},
   "outputs": [
    {
     "data": {
      "text/plain": [
       "<3628x6040 sparse matrix of type '<class 'numpy.longlong'>'\n",
       "\twith 836483 stored elements in Compressed Sparse Column format>"
      ]
     },
     "execution_count": 135,
     "metadata": {},
     "output_type": "execute_result"
    }
   ],
   "source": [
    "# als 모델은 input으로 (item X user 꼴의 matrix를 받기 때문에 Transpose해줍니다.)\n",
    "csr_data_transpose = csr_data.T\n",
    "csr_data_transpose"
   ]
  },
  {
   "cell_type": "code",
   "execution_count": 136,
   "metadata": {},
   "outputs": [
    {
     "data": {
      "application/vnd.jupyter.widget-view+json": {
       "model_id": "59bcc516dd664d8ca18d19480dc1094d",
       "version_major": 2,
       "version_minor": 0
      },
      "text/plain": [
       "HBox(children=(FloatProgress(value=0.0, max=30.0), HTML(value='')))"
      ]
     },
     "metadata": {},
     "output_type": "display_data"
    },
    {
     "name": "stdout",
     "output_type": "stream",
     "text": [
      "\n"
     ]
    }
   ],
   "source": [
    "# 모델 훈련\n",
    "als_model.fit(csr_data_transpose)"
   ]
  },
  {
   "cell_type": "markdown",
   "metadata": {},
   "source": [
    "## 6) 내가 선호하는 5가지 영화 중 하나와 그 외의 영화 하나를 골라 훈련된 모델이 예측한 나의 선호도를 파악해 보세요."
   ]
  },
  {
   "cell_type": "code",
   "execution_count": 137,
   "metadata": {},
   "outputs": [],
   "source": [
    "# 모델 학습이 끝났습니다!\n",
    "# 모델이 1)저의 벡터와 Fargo의 벡터를 어떻게 만들고 있는지와 \n",
    "# 2)두 벡터를 곱하면 어떤 값이 나오는지 살펴보겠습니다."
   ]
  },
  {
   "cell_type": "code",
   "execution_count": 138,
   "metadata": {},
   "outputs": [
    {
     "data": {
      "text/plain": [
       "[(\"One Flew Over the Cuckoo's Nest (1975)\", 0),\n",
       " ('James and the Giant Peach (1996)', 1),\n",
       " ('My Fair Lady (1964)', 2),\n",
       " ('Erin Brockovich (2000)', 3),\n",
       " (\"Bug's Life, A (1998)\", 4),\n",
       " ('Princess Bride, The (1987)', 5),\n",
       " ('Ben-Hur (1959)', 6),\n",
       " ('Christmas Story, A (1983)', 7),\n",
       " ('Snow White and the Seven Dwarfs (1937)', 8),\n",
       " ('Wizard of Oz, The (1939)', 9)]"
      ]
     },
     "execution_count": 138,
     "metadata": {},
     "output_type": "execute_result"
    }
   ],
   "source": [
    "list(movie_to_idx.items())[:10]"
   ]
  },
  {
   "cell_type": "code",
   "execution_count": 139,
   "metadata": {},
   "outputs": [],
   "source": [
    "yesica, Fargo = user_to_idx[6041], movie_to_idx['Fargo (1996)']\n",
    "yesica_vector, Fargo_vector = als_model.user_factors[yesica], als_model.item_factors[Fargo]"
   ]
  },
  {
   "cell_type": "code",
   "execution_count": 140,
   "metadata": {
    "scrolled": true
   },
   "outputs": [
    {
     "data": {
      "text/plain": [
       "array([ 0.7376056 , -0.5585963 ,  0.5040349 ,  0.6206364 , -0.44807056,\n",
       "        0.9359307 ,  0.18174703,  0.14865285,  0.00621086,  0.14520246,\n",
       "        1.3549784 , -0.8812284 , -0.52793986,  0.25477454, -0.2820895 ,\n",
       "       -0.73590577,  0.372663  ,  0.47353044, -0.698118  ,  0.62422836,\n",
       "        0.04207455,  0.78166425,  0.26530188,  0.0155962 ,  0.24439146,\n",
       "        0.6962    , -0.10963661, -0.6109283 , -0.65123075,  0.5796029 ,\n",
       "       -0.13384274,  0.52227396,  0.3387394 ,  0.13464218,  0.55862457,\n",
       "        0.80118495, -0.27629507, -0.5611185 , -0.78813124, -0.7220014 ,\n",
       "        0.4406588 ,  0.22283658,  0.03976924, -0.49868196,  0.74086607,\n",
       "        0.05343159, -0.14896807,  0.3928164 , -0.09414233, -0.4541744 ,\n",
       "        0.44153467,  0.6111382 ,  0.33827642, -0.02518384,  0.43100837,\n",
       "       -0.75720465,  0.53308916, -0.16900647, -0.10212822, -0.26683643,\n",
       "       -0.740005  , -0.029186  , -0.31739476,  0.15832242, -1.0461935 ,\n",
       "       -0.5123193 ,  0.435046  ,  0.6033638 , -0.5377891 ,  1.6274838 ,\n",
       "       -0.72047484, -0.66315264,  0.7772023 , -1.1267548 , -0.36053562,\n",
       "        0.8773931 , -0.20056726,  0.7322685 , -0.41370526, -0.6165223 ,\n",
       "        0.49572876, -0.33579308, -0.01682254, -0.01814989,  0.04999148,\n",
       "       -1.2418185 , -0.4051531 , -0.12537743,  1.1672884 ,  0.13855807,\n",
       "       -1.1723833 ,  0.16125993,  0.11256639, -0.07131656,  0.24933732,\n",
       "        0.03322009, -0.22235025,  0.3535904 ,  0.23011927, -0.4722454 ],\n",
       "      dtype=float32)"
      ]
     },
     "execution_count": 140,
     "metadata": {},
     "output_type": "execute_result"
    }
   ],
   "source": [
    "yesica_vector"
   ]
  },
  {
   "cell_type": "code",
   "execution_count": 141,
   "metadata": {},
   "outputs": [
    {
     "data": {
      "text/plain": [
       "array([-1.48523422e-02, -8.77514016e-03,  4.17833868e-03,  3.17863896e-02,\n",
       "        8.52538552e-03,  4.63217199e-02,  1.45368334e-02,  3.84224802e-02,\n",
       "        2.63219271e-02,  5.41931903e-03,  2.83929817e-02, -1.12415394e-02,\n",
       "        4.67449939e-03,  2.38641761e-02, -5.06500155e-03, -6.24602940e-03,\n",
       "        3.09291855e-03,  3.38899158e-02, -1.61270681e-03,  1.03937024e-02,\n",
       "        5.86631196e-03, -1.22873727e-02,  8.71043745e-03, -1.97362024e-02,\n",
       "       -1.45483948e-03,  2.73373090e-02, -1.44919832e-04, -2.54779216e-02,\n",
       "       -3.91613320e-02,  5.00877202e-03, -1.60087775e-02,  3.57702337e-02,\n",
       "        6.85796421e-03,  6.96281577e-03,  5.97387031e-02,  3.41374502e-02,\n",
       "       -2.27433816e-02, -3.29741575e-02, -1.27263162e-02, -6.32628240e-03,\n",
       "        1.34661356e-02, -1.93210749e-03, -2.62924423e-03, -1.29536875e-02,\n",
       "        3.17518003e-02,  1.05566420e-02, -2.60838680e-02,  1.40494714e-02,\n",
       "        2.40692287e-03, -2.72527970e-02,  3.81466839e-03,  3.99435796e-02,\n",
       "        3.86439636e-02,  4.15742174e-02,  2.03153472e-02, -1.98979191e-02,\n",
       "        1.56228179e-02, -1.15216672e-02,  5.92995482e-03, -2.20608693e-02,\n",
       "       -5.70890261e-03, -1.74669374e-03, -7.60442461e-04,  5.03310039e-05,\n",
       "       -5.99082140e-03, -8.24275799e-03,  4.20698412e-02, -6.29654946e-03,\n",
       "       -1.98156498e-02,  3.88580672e-02, -1.09814750e-02,  1.83557328e-02,\n",
       "       -3.59405577e-03, -1.33017767e-02,  1.70609187e-02,  3.66027169e-02,\n",
       "        7.25521706e-04,  3.44607085e-02, -8.15160852e-03, -1.74006950e-02,\n",
       "       -8.76434520e-03, -6.96607819e-03, -1.76072046e-02,  1.93224121e-02,\n",
       "        1.02654910e-02, -5.42381331e-02, -9.20644403e-03, -1.49118723e-02,\n",
       "        4.76625934e-02,  3.34098861e-02, -2.09153090e-02,  2.03975551e-02,\n",
       "        1.14063835e-02,  2.14508995e-02, -1.46011086e-02,  2.53009275e-02,\n",
       "        3.32396873e-03,  6.84963819e-03,  1.65353604e-02, -2.05024044e-04],\n",
       "      dtype=float32)"
      ]
     },
     "execution_count": 141,
     "metadata": {},
     "output_type": "execute_result"
    }
   ],
   "source": [
    "Fargo_vector"
   ]
  },
  {
   "cell_type": "code",
   "execution_count": 142,
   "metadata": {},
   "outputs": [
    {
     "data": {
      "text/plain": [
       "0.8004745"
      ]
     },
     "execution_count": 142,
     "metadata": {},
     "output_type": "execute_result"
    }
   ],
   "source": [
    "# yesica와 Fargo를 내적하는 코드\n",
    "np.dot(yesica_vector, Fargo_vector)"
   ]
  },
  {
   "cell_type": "code",
   "execution_count": 143,
   "metadata": {},
   "outputs": [],
   "source": [
    "# 내가 영화 'Fargo (1996)'를 좋아하는 경향이 있다고 판단해도 될 것 같다. "
   ]
  },
  {
   "cell_type": "markdown",
   "metadata": {},
   "source": [
    "## 7) 내가 좋아하는 영화와 비슷한 영화를 추천받아 봅시다."
   ]
  },
  {
   "cell_type": "code",
   "execution_count": 144,
   "metadata": {},
   "outputs": [
    {
     "data": {
      "text/plain": [
       "0.67810553"
      ]
     },
     "execution_count": 144,
     "metadata": {},
     "output_type": "execute_result"
    }
   ],
   "source": [
    "# 모델이 yesica의 Braveheart에 대한 선호도를 어떻게 예측할지 한 번 보겠습니다\n",
    "Braveheart = movie_to_idx['Braveheart (1995)']\n",
    "Braveheart_vector = als_model.item_factors[Braveheart]\n",
    "np.dot(yesica_vector, Braveheart_vector)"
   ]
  },
  {
   "cell_type": "code",
   "execution_count": 145,
   "metadata": {},
   "outputs": [
    {
     "data": {
      "text/plain": [
       "[(40, 0.2356844),\n",
       " (50, 0.18982272),\n",
       " (4, 0.14046837),\n",
       " (33, 0.13181892),\n",
       " (322, 0.12904634),\n",
       " (110, 0.11863627),\n",
       " (330, 0.09903308),\n",
       " (10, 0.098271266),\n",
       " (20, 0.094264336),\n",
       " (255, 0.08528598),\n",
       " (126, 0.08291619),\n",
       " (34, 0.07776481),\n",
       " (545, 0.07721596),\n",
       " (32, 0.07459985),\n",
       " (16, 0.07443735)]"
      ]
     },
     "execution_count": 145,
     "metadata": {},
     "output_type": "execute_result"
    }
   ],
   "source": [
    "# 'Toy Story (1995)'와 비슷한 영화를 추천해준다.\n",
    "favorite_movie = 'Toy Story (1995)'\n",
    "movie_id = movie_to_idx[favorite_movie]\n",
    "similar_movie = als_model.similar_items(movie_id, N=15)\n",
    "similar_movie"
   ]
  },
  {
   "cell_type": "code",
   "execution_count": 146,
   "metadata": {},
   "outputs": [
    {
     "data": {
      "text/plain": [
       "['Toy Story (1995)',\n",
       " 'Toy Story 2 (1999)',\n",
       " \"Bug's Life, A (1998)\",\n",
       " 'Aladdin (1992)',\n",
       " 'Babe (1995)',\n",
       " 'Groundhog Day (1993)',\n",
       " 'Lion King, The (1994)',\n",
       " 'Beauty and the Beast (1991)',\n",
       " 'Pleasantville (1998)',\n",
       " \"There's Something About Mary (1998)\",\n",
       " 'Shakespeare in Love (1998)',\n",
       " 'Mulan (1998)',\n",
       " 'Santa Clause, The (1994)',\n",
       " 'Hercules (1997)',\n",
       " 'Tarzan (1999)']"
      ]
     },
     "execution_count": 146,
     "metadata": {},
     "output_type": "execute_result"
    }
   ],
   "source": [
    "#movie_to_idx 를 뒤집어, index로부터 movie 이름을 얻는 dict를 생성합니다. \n",
    "idx_to_movie = {v:k for k,v in movie_to_idx.items()}\n",
    "[idx_to_movie[i[0]] for i in similar_movie]"
   ]
  },
  {
   "cell_type": "code",
   "execution_count": 147,
   "metadata": {},
   "outputs": [
    {
     "data": {
      "text/plain": [
       "[(38, 0.27093682),\n",
       " (121, 0.1302855),\n",
       " (233, 0.11927416),\n",
       " (220, 0.10928415),\n",
       " (273, 0.10448333),\n",
       " (170, 0.09924616),\n",
       " (243, 0.09658672),\n",
       " (315, 0.090393774),\n",
       " (1938, 0.09019867),\n",
       " (1706, 0.08886743),\n",
       " (248, 0.08843804),\n",
       " (51, 0.08813344),\n",
       " (141, 0.08798797),\n",
       " (796, 0.08787211),\n",
       " (124, 0.08783387)]"
      ]
     },
     "execution_count": 147,
     "metadata": {},
     "output_type": "execute_result"
    }
   ],
   "source": [
    "# 'Sixth Sense, The (1999)'와 비슷한 영화를 추천해준다.\n",
    "favorite_movie = 'Sixth Sense, The (1999)'  # Sixth Sense, The (1999)\n",
    "movie_id = movie_to_idx[favorite_movie]\n",
    "similar_movie = als_model.similar_items(movie_id, N=15)\n",
    "similar_movie"
   ]
  },
  {
   "cell_type": "code",
   "execution_count": 148,
   "metadata": {},
   "outputs": [
    {
     "data": {
      "text/plain": [
       "['Sixth Sense, The (1999)',\n",
       " 'Silence of the Lambs, The (1991)',\n",
       " 'Usual Suspects, The (1995)',\n",
       " 'Seven (Se7en) (1995)',\n",
       " 'Fight Club (1999)',\n",
       " 'Being John Malkovich (1999)',\n",
       " 'Ghostbusters (1984)',\n",
       " \"Boys Don't Cry (1999)\",\n",
       " 'Superstar (1999)',\n",
       " 'Stuart Little (1999)',\n",
       " 'Good Will Hunting (1997)',\n",
       " 'Fargo (1996)',\n",
       " 'Fugitive, The (1993)',\n",
       " 'Bone Collector, The (1999)',\n",
       " 'Matrix, The (1999)']"
      ]
     },
     "execution_count": 148,
     "metadata": {},
     "output_type": "execute_result"
    }
   ],
   "source": [
    "#movie_to_idx 를 뒤집어, index로부터 영화 title을 얻는 dict를 생성합니다. \n",
    "idx_to_movie = {v:k for k,v in movie_to_idx.items()}\n",
    "[idx_to_movie[i[0]] for i in similar_movie]"
   ]
  },
  {
   "cell_type": "code",
   "execution_count": 149,
   "metadata": {},
   "outputs": [],
   "source": [
    "def get_similar_movie(movie_name: str):\n",
    "    movie_id = movie_to_idx[movie_name]\n",
    "    similar_movie = als_model.similar_items(movie_id)\n",
    "    similar_movie = [idx_to_movie[i[0]] for i in similar_movie]\n",
    "    return similar_movie"
   ]
  },
  {
   "cell_type": "code",
   "execution_count": 150,
   "metadata": {},
   "outputs": [
    {
     "data": {
      "text/plain": [
       "['Matrix, The (1999)',\n",
       " 'Terminator 2: Judgment Day (1991)',\n",
       " 'Total Recall (1990)',\n",
       " 'Fugitive, The (1993)',\n",
       " 'Terminator, The (1984)',\n",
       " 'Fifth Element, The (1997)',\n",
       " 'Face/Off (1997)',\n",
       " 'Jurassic Park (1993)',\n",
       " 'Men in Black (1997)',\n",
       " 'Twelve Monkeys (1995)']"
      ]
     },
     "execution_count": 150,
     "metadata": {},
     "output_type": "execute_result"
    }
   ],
   "source": [
    "# 'Matrix, The (1999)'와 비슷한 영화를 추천해준다.\n",
    "get_similar_movie('Matrix, The (1999)')"
   ]
  },
  {
   "cell_type": "markdown",
   "metadata": {},
   "source": [
    "## 8) 내가 가장 좋아할 만한 영화들을 추천받아 봅시다."
   ]
  },
  {
   "cell_type": "code",
   "execution_count": 151,
   "metadata": {},
   "outputs": [
    {
     "data": {
      "text/plain": [
       "[(121, 0.8809812),\n",
       " (157, 0.7226368),\n",
       " (48, 0.71968174),\n",
       " (50, 0.62598556),\n",
       " (23, 0.60996246),\n",
       " (233, 0.55825293),\n",
       " (269, 0.54530674),\n",
       " (248, 0.5312074),\n",
       " (99, 0.5134419),\n",
       " (224, 0.43279436),\n",
       " (141, 0.41546136),\n",
       " (4, 0.41436586),\n",
       " (92, 0.41090024),\n",
       " (472, 0.40417674),\n",
       " (322, 0.3864816),\n",
       " (220, 0.38089585),\n",
       " (124, 0.36701685),\n",
       " (289, 0.36201674),\n",
       " (110, 0.34053037),\n",
       " (126, 0.32297438)]"
      ]
     },
     "execution_count": 151,
     "metadata": {},
     "output_type": "execute_result"
    }
   ],
   "source": [
    "# 내가 좋아할 만한 영화를 추천해준다\n",
    "user = user_to_idx[6041]\n",
    "# recommend에서는 user*item CSR Matrix를 받습니다.\n",
    "movie_recommended = als_model.recommend(user, csr_data, N=20, filter_already_liked_items=True)\n",
    "movie_recommended"
   ]
  },
  {
   "cell_type": "code",
   "execution_count": 152,
   "metadata": {},
   "outputs": [
    {
     "data": {
      "text/plain": [
       "['Silence of the Lambs, The (1991)',\n",
       " 'Shawshank Redemption, The (1994)',\n",
       " 'Saving Private Ryan (1998)',\n",
       " 'Toy Story 2 (1999)',\n",
       " \"Schindler's List (1993)\",\n",
       " 'Usual Suspects, The (1995)',\n",
       " 'GoodFellas (1990)',\n",
       " 'Good Will Hunting (1997)',\n",
       " 'American Beauty (1999)',\n",
       " 'L.A. Confidential (1997)',\n",
       " 'Fugitive, The (1993)',\n",
       " \"Bug's Life, A (1998)\",\n",
       " 'Terminator 2: Judgment Day (1991)',\n",
       " 'Sling Blade (1996)',\n",
       " 'Babe (1995)',\n",
       " 'Seven (Se7en) (1995)',\n",
       " 'Matrix, The (1999)',\n",
       " 'Reservoir Dogs (1992)',\n",
       " 'Groundhog Day (1993)',\n",
       " 'Shakespeare in Love (1998)']"
      ]
     },
     "execution_count": 152,
     "metadata": {},
     "output_type": "execute_result"
    }
   ],
   "source": [
    "# 내가 좋아할 만한 영화 타이틀들을 보여준다.\n",
    "[idx_to_movie[i[0]] for i in movie_recommended]"
   ]
  },
  {
   "cell_type": "code",
   "execution_count": 153,
   "metadata": {},
   "outputs": [],
   "source": [
    "# Pulp Fiction (1994) 비슷한 영화를 추천해준다\n",
    "Pulp_Fiction = movie_to_idx['Pulp Fiction (1994)'] # Pulp Fiction (1994)\n",
    "explain = als_model.explain(user, csr_data, itemid=Pulp_Fiction)"
   ]
  },
  {
   "cell_type": "code",
   "execution_count": 154,
   "metadata": {},
   "outputs": [
    {
     "data": {
      "text/plain": [
       "[('Pulp Fiction (1994)', 0.4394265353880361),\n",
       " ('Fargo (1996)', 0.2316567808493778),\n",
       " ('Sixth Sense, The (1999)', 0.032801380559110686),\n",
       " ('Toy Story (1995)', 0.0009158647856851148),\n",
       " ('Braveheart (1995)', -0.02169667000766714)]"
      ]
     },
     "execution_count": 154,
     "metadata": {},
     "output_type": "execute_result"
    }
   ],
   "source": [
    "[(idx_to_movie[i[0]], i[1]) for i in explain[1]]"
   ]
  },
  {
   "cell_type": "code",
   "execution_count": 49,
   "metadata": {},
   "outputs": [],
   "source": [
    "# 입력한 영화와 유사한 영화를 추천해 준다"
   ]
  },
  {
   "cell_type": "code",
   "execution_count": null,
   "metadata": {},
   "outputs": [],
   "source": []
  }
 ],
 "metadata": {
  "kernelspec": {
   "display_name": "aiffel",
   "language": "python",
   "name": "aiffel"
  },
  "language_info": {
   "codemirror_mode": {
    "name": "ipython",
    "version": 3
   },
   "file_extension": ".py",
   "mimetype": "text/x-python",
   "name": "python",
   "nbconvert_exporter": "python",
   "pygments_lexer": "ipython3",
   "version": "3.7.6"
  }
 },
 "nbformat": 4,
 "nbformat_minor": 4
}
